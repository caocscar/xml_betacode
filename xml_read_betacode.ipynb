{
 "cells": [
  {
   "cell_type": "markdown",
   "metadata": {},
   "source": [
    "# Read XML file with betacode text"
   ]
  },
  {
   "cell_type": "markdown",
   "metadata": {},
   "source": [
    "Install necessary modules. You also have to `pip install pygtrie` if you want to use the `betacode` module."
   ]
  },
  {
   "cell_type": "code",
   "execution_count": 1,
   "metadata": {},
   "outputs": [],
   "source": [
    "from bs4 import BeautifulSoup\n",
    "from collections import Counter\n",
    "import betacode.conv"
   ]
  },
  {
   "cell_type": "markdown",
   "metadata": {},
   "source": [
    "Read in xml file and create soup object"
   ]
  },
  {
   "cell_type": "code",
   "execution_count": 2,
   "metadata": {},
   "outputs": [],
   "source": [
    "with open('aristot.met_gk.xml','r') as fin:\n",
    "    aristotle = fin.read()\n",
    "soup = BeautifulSoup(aristotle, 'lxml')"
   ]
  },
  {
   "cell_type": "markdown",
   "metadata": {},
   "source": [
    "Looking at the xml file, we need to find the `text` tags in the file. "
   ]
  },
  {
   "cell_type": "code",
   "execution_count": 3,
   "metadata": {
    "scrolled": true
   },
   "outputs": [
    {
     "data": {
      "text/plain": [
       "1"
      ]
     },
     "execution_count": 3,
     "metadata": {},
     "output_type": "execute_result"
    }
   ],
   "source": [
    "texts = soup.find_all('text')\n",
    "len(texts)"
   ]
  },
  {
   "cell_type": "markdown",
   "metadata": {},
   "source": [
    "Turns out there is only one `text` tag."
   ]
  },
  {
   "cell_type": "code",
   "execution_count": 4,
   "metadata": {},
   "outputs": [],
   "source": [
    "text = texts[0]"
   ]
  },
  {
   "cell_type": "markdown",
   "metadata": {},
   "source": [
    "Find the chapters within the `text` tag by looking for the `div1` tag."
   ]
  },
  {
   "cell_type": "code",
   "execution_count": 5,
   "metadata": {},
   "outputs": [],
   "source": [
    "chapters = text.find_all('div1', type='Book')"
   ]
  },
  {
   "cell_type": "markdown",
   "metadata": {},
   "source": [
    "Grab all text within the tag by using `text` attribute and append to the list of chapters. I could have also just done `text.text` to do the same thing but without chapter separation."
   ]
  },
  {
   "cell_type": "code",
   "execution_count": 6,
   "metadata": {},
   "outputs": [],
   "source": [
    "CH = []\n",
    "for chapter in chapters:\n",
    "    CH.append(chapter.text)\n",
    "book = '\\n'.join(CH)"
   ]
  },
  {
   "cell_type": "markdown",
   "metadata": {},
   "source": [
    "Convert from betacode to unicode"
   ]
  },
  {
   "cell_type": "code",
   "execution_count": 7,
   "metadata": {},
   "outputs": [],
   "source": [
    "greek = betacode.conv.beta_to_uni(book)"
   ]
  },
  {
   "cell_type": "markdown",
   "metadata": {},
   "source": [
    "Count characters in text"
   ]
  },
  {
   "cell_type": "code",
   "execution_count": 8,
   "metadata": {},
   "outputs": [
    {
     "data": {
      "text/plain": [
       "Counter({'\\t': 896,\n",
       "         '\\n': 280,\n",
       "         ' ': 77088,\n",
       "         '\"': 28,\n",
       "         '&': 1076,\n",
       "         '(': 1,\n",
       "         ')': 1,\n",
       "         ',': 5524,\n",
       "         '.': 2087,\n",
       "         '0': 5,\n",
       "         '1': 9,\n",
       "         '2': 3,\n",
       "         '3': 3,\n",
       "         '6': 4,\n",
       "         '7': 1,\n",
       "         '8': 2,\n",
       "         '9': 2,\n",
       "         ';': 1467,\n",
       "         '<': 60,\n",
       "         '>': 60,\n",
       "         '·': 1915,\n",
       "         'Α': 29,\n",
       "         'Β': 21,\n",
       "         'Γ': 3,\n",
       "         'Δ': 15,\n",
       "         'Ε': 8,\n",
       "         'Ζ': 5,\n",
       "         'Η': 1,\n",
       "         'Θ': 4,\n",
       "         'Κ': 45,\n",
       "         'Λ': 5,\n",
       "         'Μ': 7,\n",
       "         'Ν': 4,\n",
       "         'Ξ': 4,\n",
       "         'Π': 64,\n",
       "         'Ρ': 1,\n",
       "         'Σ': 51,\n",
       "         'Τ': 4,\n",
       "         'Φ': 4,\n",
       "         'Ψ': 1,\n",
       "         'Ω': 1,\n",
       "         'α': 24693,\n",
       "         'β': 1358,\n",
       "         'γ': 6311,\n",
       "         'δ': 8631,\n",
       "         'ε': 17577,\n",
       "         'ζ': 526,\n",
       "         'η': 4415,\n",
       "         'θ': 4545,\n",
       "         'ι': 18271,\n",
       "         'κ': 11035,\n",
       "         'λ': 9849,\n",
       "         'μ': 9294,\n",
       "         'ν': 31104,\n",
       "         'ξ': 907,\n",
       "         'ο': 22933,\n",
       "         'π': 9774,\n",
       "         'ρ': 13011,\n",
       "         'ς': 10951,\n",
       "         'σ': 11028,\n",
       "         'τ': 32135,\n",
       "         'υ': 3722,\n",
       "         'φ': 2139,\n",
       "         'χ': 2941,\n",
       "         'ψ': 295,\n",
       "         'ω': 4153,\n",
       "         'ϊ': 42,\n",
       "         'ϋ': 8,\n",
       "         'ἀ': 4233,\n",
       "         'ἁ': 178,\n",
       "         'ἂ': 434,\n",
       "         'ἃ': 49,\n",
       "         'ἄ': 1457,\n",
       "         'ἅ': 236,\n",
       "         'ἆ': 44,\n",
       "         'Ἀ': 29,\n",
       "         'Ἄ': 1,\n",
       "         'ἐ': 4359,\n",
       "         'ἑ': 470,\n",
       "         'ἓ': 362,\n",
       "         'ἔ': 1976,\n",
       "         'ἕ': 748,\n",
       "         'Ἐ': 23,\n",
       "         'Ἑ': 6,\n",
       "         'Ἕ': 3,\n",
       "         'ἠ': 35,\n",
       "         'ἡ': 1081,\n",
       "         'ἢ': 1249,\n",
       "         'ἣ': 36,\n",
       "         'ἤ': 75,\n",
       "         'ἥ': 66,\n",
       "         'ἦ': 165,\n",
       "         'ἧ': 43,\n",
       "         'Ἡ': 15,\n",
       "         'ἰ': 1978,\n",
       "         'ἱ': 607,\n",
       "         'ἳ': 8,\n",
       "         'ἴ': 1052,\n",
       "         'ἵ': 74,\n",
       "         'ἶ': 1404,\n",
       "         'ἷ': 598,\n",
       "         'Ἰ': 8,\n",
       "         'Ἱ': 1,\n",
       "         'Ἴ': 2,\n",
       "         'Ἵ': 2,\n",
       "         'ὀ': 160,\n",
       "         'ὁ': 1031,\n",
       "         'ὂ': 160,\n",
       "         'ὃ': 154,\n",
       "         'ὄ': 516,\n",
       "         'ὅ': 1295,\n",
       "         'Ὀ': 1,\n",
       "         'Ὁ': 1,\n",
       "         'Ὅ': 1,\n",
       "         'ὐ': 3693,\n",
       "         'ὑ': 877,\n",
       "         'ὒ': 2,\n",
       "         'ὓ': 3,\n",
       "         'ὔ': 508,\n",
       "         'ὕ': 780,\n",
       "         'ὖ': 433,\n",
       "         'ὗ': 236,\n",
       "         'ὠ': 7,\n",
       "         'ὡ': 607,\n",
       "         'ὢ': 10,\n",
       "         'ὣ': 2,\n",
       "         'ὤ': 3,\n",
       "         'ὥ': 559,\n",
       "         'ὦ': 5,\n",
       "         'ὧ': 186,\n",
       "         'Ὠ': 1,\n",
       "         'ὰ': 4995,\n",
       "         'ά': 3292,\n",
       "         'ὲ': 3709,\n",
       "         'έ': 4527,\n",
       "         'ὴ': 2045,\n",
       "         'ή': 1188,\n",
       "         'ὶ': 6240,\n",
       "         'ί': 5115,\n",
       "         'ὸ': 5374,\n",
       "         'ό': 3645,\n",
       "         'ὺ': 303,\n",
       "         'ύ': 2158,\n",
       "         'ὼ': 24,\n",
       "         'ώ': 553,\n",
       "         'ᾑ': 1,\n",
       "         'ᾔ': 1,\n",
       "         'ᾖ': 89,\n",
       "         'ᾗ': 160,\n",
       "         'ᾠ': 6,\n",
       "         'ᾤ': 8,\n",
       "         'ᾧ': 39,\n",
       "         'ᾰ': 43,\n",
       "         'ᾳ': 187,\n",
       "         'ᾴ': 14,\n",
       "         'ᾶ': 478,\n",
       "         'ᾷ': 36,\n",
       "         'ῃ': 190,\n",
       "         'ῄ': 9,\n",
       "         'ῆ': 1401,\n",
       "         'ῇ': 340,\n",
       "         'ῐ': 72,\n",
       "         'ῑ': 31,\n",
       "         'ῒ': 1,\n",
       "         'ΐ': 59,\n",
       "         'ῖ': 2218,\n",
       "         'ῠ': 10,\n",
       "         'ῥ': 65,\n",
       "         'ῦ': 2816,\n",
       "         'ῳ': 458,\n",
       "         'ῴ': 40,\n",
       "         'ῶ': 2806,\n",
       "         'ῷ': 899,\n",
       "         '‐': 2,\n",
       "         '—': 98,\n",
       "         '’': 2403,\n",
       "         '†': 10})"
      ]
     },
     "execution_count": 8,
     "metadata": {},
     "output_type": "execute_result"
    }
   ],
   "source": [
    "letters = Counter(greek)\n",
    "letters"
   ]
  },
  {
   "cell_type": "markdown",
   "metadata": {},
   "source": [
    "Do the same thing with words with some cleaning of linefeeds and tabs."
   ]
  },
  {
   "cell_type": "code",
   "execution_count": 9,
   "metadata": {},
   "outputs": [],
   "source": [
    "greekwords = greek.split(' ')\n",
    "greekwords = [word.strip('\\n\\t') for word in greekwords]"
   ]
  },
  {
   "cell_type": "code",
   "execution_count": 10,
   "metadata": {},
   "outputs": [
    {
     "data": {
      "text/plain": [
       "[('καὶ', 4275),\n",
       " ('τὸ', 2805),\n",
       " ('δὲ', 1855),\n",
       " ('γὰρ', 1460),\n",
       " ('ἢ', 1195),\n",
       " ('τῶν', 1178),\n",
       " ('μὲν', 1134),\n",
       " ('τὰ', 1072),\n",
       " ('ἡ', 924),\n",
       " ('δ’', 878),\n",
       " ('εἶναι', 812),\n",
       " ('τοῦ', 776),\n",
       " ('μὴ', 649),\n",
       " ('ἐν', 601),\n",
       " ('εἰ', 601),\n",
       " ('ὅτι', 542),\n",
       " ('τὴν', 514),\n",
       " ('τῷ', 505),\n",
       " ('ὁ', 475),\n",
       " ('ὡς', 472)]"
      ]
     },
     "execution_count": 10,
     "metadata": {},
     "output_type": "execute_result"
    }
   ],
   "source": [
    "words = Counter(greekwords)\n",
    "words.most_common(20)"
   ]
  },
  {
   "cell_type": "markdown",
   "metadata": {},
   "source": [
    "Output unicode string to file with **utf-8** encoding"
   ]
  },
  {
   "cell_type": "code",
   "execution_count": 11,
   "metadata": {},
   "outputs": [],
   "source": [
    "with open('greektext.txt','w',encoding='utf-8') as fout:\n",
    "    fout.write(greek)"
   ]
  }
 ],
 "metadata": {
  "kernelspec": {
   "display_name": "Python 3",
   "language": "python",
   "name": "python3"
  },
  "language_info": {
   "codemirror_mode": {
    "name": "ipython",
    "version": 3
   },
   "file_extension": ".py",
   "mimetype": "text/x-python",
   "name": "python",
   "nbconvert_exporter": "python",
   "pygments_lexer": "ipython3",
   "version": "3.6.4"
  }
 },
 "nbformat": 4,
 "nbformat_minor": 2
}
