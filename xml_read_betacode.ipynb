{
 "cells": [
  {
   "cell_type": "markdown",
   "metadata": {},
   "source": [
    "# Read XML file with betacode text"
   ]
  },
  {
   "cell_type": "markdown",
   "metadata": {},
   "source": [
    "Install necessary modules. Install betacode module via `pip install betacode`. You also have to `pip install pygtrie` if you want to use the `betacode` module."
   ]
  },
  {
   "cell_type": "code",
   "execution_count": 1,
   "metadata": {
    "collapsed": true
   },
   "outputs": [],
   "source": [
    "from bs4 import BeautifulSoup\n",
    "from collections import Counter\n",
    "import betacode.conv\n",
    "import numpy as np"
   ]
  },
  {
   "cell_type": "markdown",
   "metadata": {},
   "source": [
    "Read in xml file and create soup object"
   ]
  },
  {
   "cell_type": "code",
   "execution_count": 2,
   "metadata": {
    "collapsed": true
   },
   "outputs": [],
   "source": [
    "with open('aristot.met_gk.xml','r') as fin:\n",
    "    aristotle = fin.read()\n",
    "soup = BeautifulSoup(aristotle, 'lxml')"
   ]
  },
  {
   "cell_type": "markdown",
   "metadata": {},
   "source": [
    "Looking at the xml file, we need to find the `text` tags in the file. "
   ]
  },
  {
   "cell_type": "code",
   "execution_count": 3,
   "metadata": {
    "collapsed": false,
    "scrolled": true
   },
   "outputs": [
    {
     "data": {
      "text/plain": [
       "1"
      ]
     },
     "execution_count": 3,
     "metadata": {},
     "output_type": "execute_result"
    }
   ],
   "source": [
    "texts = soup.find_all('text')\n",
    "len(texts)"
   ]
  },
  {
   "cell_type": "markdown",
   "metadata": {},
   "source": [
    "Turns out there is only one `text` tag."
   ]
  },
  {
   "cell_type": "code",
   "execution_count": 4,
   "metadata": {
    "collapsed": true
   },
   "outputs": [],
   "source": [
    "text = texts[0]"
   ]
  },
  {
   "cell_type": "markdown",
   "metadata": {},
   "source": [
    "Find the books within the `text` tag by looking for the `div1` tag and the `type` attribute."
   ]
  },
  {
   "cell_type": "code",
   "execution_count": 5,
   "metadata": {
    "collapsed": true
   },
   "outputs": [],
   "source": [
    "books = text.find_all('div1', type='Book')"
   ]
  },
  {
   "cell_type": "markdown",
   "metadata": {},
   "source": [
    "Grab all text within the tag by using `text` attribute and append to the list of books. I could have also just done `text.text` to do the same thing but without book separation."
   ]
  },
  {
   "cell_type": "code",
   "execution_count": 6,
   "metadata": {
    "collapsed": true
   },
   "outputs": [],
   "source": [
    "booklist = []\n",
    "for book in books:\n",
    "    booklist.append(book.text)\n",
    "beta = '\\n'.join(booklist)"
   ]
  },
  {
   "cell_type": "markdown",
   "metadata": {},
   "source": [
    "Convert from betacode to unicode"
   ]
  },
  {
   "cell_type": "code",
   "execution_count": 7,
   "metadata": {
    "collapsed": true
   },
   "outputs": [],
   "source": [
    "greek = betacode.conv.beta_to_uni(beta)"
   ]
  },
  {
   "cell_type": "markdown",
   "metadata": {},
   "source": [
    "Count characters in text"
   ]
  },
  {
   "cell_type": "code",
   "execution_count": 8,
   "metadata": {
    "collapsed": false
   },
   "outputs": [
    {
     "data": {
      "text/plain": [
       "Counter({'\\t': 896,\n",
       "         '\\n': 280,\n",
       "         ' ': 77088,\n",
       "         '\"': 28,\n",
       "         '&': 1076,\n",
       "         '(': 1,\n",
       "         ')': 1,\n",
       "         ',': 5524,\n",
       "         '.': 2087,\n",
       "         '0': 5,\n",
       "         '1': 9,\n",
       "         '2': 3,\n",
       "         '3': 3,\n",
       "         '6': 4,\n",
       "         '7': 1,\n",
       "         '8': 2,\n",
       "         '9': 2,\n",
       "         ';': 1467,\n",
       "         '<': 60,\n",
       "         '>': 60,\n",
       "         '·': 1915,\n",
       "         'Α': 29,\n",
       "         'Β': 21,\n",
       "         'Γ': 3,\n",
       "         'Δ': 15,\n",
       "         'Ε': 8,\n",
       "         'Ζ': 5,\n",
       "         'Η': 1,\n",
       "         'Θ': 4,\n",
       "         'Κ': 45,\n",
       "         'Λ': 5,\n",
       "         'Μ': 7,\n",
       "         'Ν': 4,\n",
       "         'Ξ': 4,\n",
       "         'Π': 64,\n",
       "         'Ρ': 1,\n",
       "         'Σ': 51,\n",
       "         'Τ': 4,\n",
       "         'Φ': 4,\n",
       "         'Ψ': 1,\n",
       "         'Ω': 1,\n",
       "         'α': 24693,\n",
       "         'β': 1358,\n",
       "         'γ': 6311,\n",
       "         'δ': 8631,\n",
       "         'ε': 17577,\n",
       "         'ζ': 526,\n",
       "         'η': 4415,\n",
       "         'θ': 4545,\n",
       "         'ι': 18271,\n",
       "         'κ': 11035,\n",
       "         'λ': 9849,\n",
       "         'μ': 9294,\n",
       "         'ν': 31104,\n",
       "         'ξ': 907,\n",
       "         'ο': 22933,\n",
       "         'π': 9774,\n",
       "         'ρ': 13011,\n",
       "         'ς': 10951,\n",
       "         'σ': 11028,\n",
       "         'τ': 32135,\n",
       "         'υ': 3722,\n",
       "         'φ': 2139,\n",
       "         'χ': 2941,\n",
       "         'ψ': 295,\n",
       "         'ω': 4153,\n",
       "         'ϊ': 42,\n",
       "         'ϋ': 8,\n",
       "         'ἀ': 4233,\n",
       "         'ἁ': 178,\n",
       "         'ἂ': 434,\n",
       "         'ἃ': 49,\n",
       "         'ἄ': 1457,\n",
       "         'ἅ': 236,\n",
       "         'ἆ': 44,\n",
       "         'Ἀ': 29,\n",
       "         'Ἄ': 1,\n",
       "         'ἐ': 4359,\n",
       "         'ἑ': 470,\n",
       "         'ἓ': 362,\n",
       "         'ἔ': 1976,\n",
       "         'ἕ': 748,\n",
       "         'Ἐ': 23,\n",
       "         'Ἑ': 6,\n",
       "         'Ἕ': 3,\n",
       "         'ἠ': 35,\n",
       "         'ἡ': 1081,\n",
       "         'ἢ': 1249,\n",
       "         'ἣ': 36,\n",
       "         'ἤ': 75,\n",
       "         'ἥ': 66,\n",
       "         'ἦ': 165,\n",
       "         'ἧ': 43,\n",
       "         'Ἡ': 15,\n",
       "         'ἰ': 1978,\n",
       "         'ἱ': 607,\n",
       "         'ἳ': 8,\n",
       "         'ἴ': 1052,\n",
       "         'ἵ': 74,\n",
       "         'ἶ': 1404,\n",
       "         'ἷ': 598,\n",
       "         'Ἰ': 8,\n",
       "         'Ἱ': 1,\n",
       "         'Ἴ': 2,\n",
       "         'Ἵ': 2,\n",
       "         'ὀ': 160,\n",
       "         'ὁ': 1031,\n",
       "         'ὂ': 160,\n",
       "         'ὃ': 154,\n",
       "         'ὄ': 516,\n",
       "         'ὅ': 1295,\n",
       "         'Ὀ': 1,\n",
       "         'Ὁ': 1,\n",
       "         'Ὅ': 1,\n",
       "         'ὐ': 3693,\n",
       "         'ὑ': 877,\n",
       "         'ὒ': 2,\n",
       "         'ὓ': 3,\n",
       "         'ὔ': 508,\n",
       "         'ὕ': 780,\n",
       "         'ὖ': 433,\n",
       "         'ὗ': 236,\n",
       "         'ὠ': 7,\n",
       "         'ὡ': 607,\n",
       "         'ὢ': 10,\n",
       "         'ὣ': 2,\n",
       "         'ὤ': 3,\n",
       "         'ὥ': 559,\n",
       "         'ὦ': 5,\n",
       "         'ὧ': 186,\n",
       "         'Ὠ': 1,\n",
       "         'ὰ': 4995,\n",
       "         'ά': 3292,\n",
       "         'ὲ': 3709,\n",
       "         'έ': 4527,\n",
       "         'ὴ': 2045,\n",
       "         'ή': 1188,\n",
       "         'ὶ': 6240,\n",
       "         'ί': 5115,\n",
       "         'ὸ': 5374,\n",
       "         'ό': 3645,\n",
       "         'ὺ': 303,\n",
       "         'ύ': 2158,\n",
       "         'ὼ': 24,\n",
       "         'ώ': 553,\n",
       "         'ᾑ': 1,\n",
       "         'ᾔ': 1,\n",
       "         'ᾖ': 89,\n",
       "         'ᾗ': 160,\n",
       "         'ᾠ': 6,\n",
       "         'ᾤ': 8,\n",
       "         'ᾧ': 39,\n",
       "         'ᾰ': 43,\n",
       "         'ᾳ': 187,\n",
       "         'ᾴ': 14,\n",
       "         'ᾶ': 478,\n",
       "         'ᾷ': 36,\n",
       "         'ῃ': 190,\n",
       "         'ῄ': 9,\n",
       "         'ῆ': 1401,\n",
       "         'ῇ': 340,\n",
       "         'ῐ': 72,\n",
       "         'ῑ': 31,\n",
       "         'ῒ': 1,\n",
       "         'ΐ': 59,\n",
       "         'ῖ': 2218,\n",
       "         'ῠ': 10,\n",
       "         'ῥ': 65,\n",
       "         'ῦ': 2816,\n",
       "         'ῳ': 458,\n",
       "         'ῴ': 40,\n",
       "         'ῶ': 2806,\n",
       "         'ῷ': 899,\n",
       "         '‐': 2,\n",
       "         '—': 98,\n",
       "         '’': 2403,\n",
       "         '†': 10})"
      ]
     },
     "execution_count": 8,
     "metadata": {},
     "output_type": "execute_result"
    }
   ],
   "source": [
    "characters = Counter(greek)\n",
    "characters"
   ]
  },
  {
   "cell_type": "markdown",
   "metadata": {},
   "source": [
    "Read in file with letters of interest and remove newline feed."
   ]
  },
  {
   "cell_type": "code",
   "execution_count": 9,
   "metadata": {
    "collapsed": true
   },
   "outputs": [],
   "source": [
    "with open('greek_letters_accents.csv','r',encoding='utf-8') as fin:\n",
    "    letters = fin.readlines()\n",
    "letters = [letter.strip('\\n') for letter in letters]"
   ]
  },
  {
   "cell_type": "markdown",
   "metadata": {},
   "source": [
    "Use a dictionary comprehension to extract characters of interest"
   ]
  },
  {
   "cell_type": "code",
   "execution_count": 10,
   "metadata": {
    "collapsed": false
   },
   "outputs": [
    {
     "data": {
      "text/plain": [
       "{'α': 24693,\n",
       " 'β': 1358,\n",
       " 'γ': 6311,\n",
       " 'δ': 8631,\n",
       " 'ε': 17577,\n",
       " 'ζ': 526,\n",
       " 'η': 4415,\n",
       " 'θ': 4545,\n",
       " 'ι': 18271,\n",
       " 'κ': 11035,\n",
       " 'λ': 9849,\n",
       " 'μ': 9294,\n",
       " 'ν': 31104,\n",
       " 'ξ': 907,\n",
       " 'ο': 22933,\n",
       " 'π': 9774,\n",
       " 'ρ': 13011,\n",
       " 'ς': 10951,\n",
       " 'σ': 11028,\n",
       " 'τ': 32135,\n",
       " 'υ': 3722,\n",
       " 'φ': 2139,\n",
       " 'χ': 2941,\n",
       " 'ψ': 295,\n",
       " 'ω': 4153,\n",
       " 'ἀ': 4233,\n",
       " 'ἁ': 178,\n",
       " 'ἂ': 434,\n",
       " 'ἃ': 49,\n",
       " 'ἄ': 1457,\n",
       " 'ἅ': 236,\n",
       " 'ἆ': 44,\n",
       " 'ἐ': 4359,\n",
       " 'ἑ': 470,\n",
       " 'ἓ': 362,\n",
       " 'ἔ': 1976,\n",
       " 'ἕ': 748,\n",
       " 'ἠ': 35,\n",
       " 'ἡ': 1081,\n",
       " 'ἢ': 1249,\n",
       " 'ἣ': 36,\n",
       " 'ἤ': 75,\n",
       " 'ἥ': 66,\n",
       " 'ἦ': 165,\n",
       " 'ἧ': 43,\n",
       " 'ἰ': 1978,\n",
       " 'ἱ': 607,\n",
       " 'ἳ': 8,\n",
       " 'ἴ': 1052,\n",
       " 'ἵ': 74,\n",
       " 'ἶ': 1404,\n",
       " 'ἷ': 598,\n",
       " 'ὀ': 160,\n",
       " 'ὁ': 1031,\n",
       " 'ὂ': 160,\n",
       " 'ὃ': 154,\n",
       " 'ὄ': 516,\n",
       " 'ὅ': 1295,\n",
       " 'ὐ': 3693,\n",
       " 'ὑ': 877,\n",
       " 'ὒ': 2,\n",
       " 'ὓ': 3,\n",
       " 'ὔ': 508,\n",
       " 'ὕ': 780,\n",
       " 'ὖ': 433,\n",
       " 'ὗ': 236,\n",
       " 'ὠ': 7,\n",
       " 'ὡ': 607,\n",
       " 'ὢ': 10,\n",
       " 'ὣ': 2,\n",
       " 'ὤ': 3,\n",
       " 'ὥ': 559,\n",
       " 'ὦ': 5,\n",
       " 'ὧ': 186,\n",
       " 'ὰ': 4995,\n",
       " 'ὲ': 3709,\n",
       " 'ὴ': 2045,\n",
       " 'ὶ': 6240,\n",
       " 'ὸ': 5374,\n",
       " 'ὺ': 303,\n",
       " 'ὼ': 24,\n",
       " 'ᾑ': 1,\n",
       " 'ᾔ': 1,\n",
       " 'ᾖ': 89,\n",
       " 'ᾗ': 160,\n",
       " 'ᾠ': 6,\n",
       " 'ᾤ': 8,\n",
       " 'ᾧ': 39,\n",
       " 'ᾳ': 187,\n",
       " 'ᾶ': 478,\n",
       " 'ῃ': 190,\n",
       " 'ῆ': 1401,\n",
       " 'ῖ': 2218,\n",
       " 'ῥ': 65,\n",
       " 'ῦ': 2816,\n",
       " 'ῳ': 458,\n",
       " 'ῶ': 2806}"
      ]
     },
     "execution_count": 10,
     "metadata": {},
     "output_type": "execute_result"
    }
   ],
   "source": [
    "letters_dict = {k:v for k,v in characters.items() if k in letters}\n",
    "letters_dict"
   ]
  },
  {
   "cell_type": "markdown",
   "metadata": {},
   "source": [
    "Optionally, create a counter object from dictionary created"
   ]
  },
  {
   "cell_type": "code",
   "execution_count": 11,
   "metadata": {
    "collapsed": true
   },
   "outputs": [],
   "source": [
    "filtered_characters = Counter(letters_dict)"
   ]
  },
  {
   "cell_type": "markdown",
   "metadata": {},
   "source": [
    "Do the same thing with words with some cleaning of linefeeds and tabs."
   ]
  },
  {
   "cell_type": "code",
   "execution_count": 12,
   "metadata": {
    "collapsed": true
   },
   "outputs": [],
   "source": [
    "greekwords = greek.split(' ')\n",
    "greekwords = [word.strip('\\n\\t') for word in greekwords]"
   ]
  },
  {
   "cell_type": "code",
   "execution_count": 13,
   "metadata": {
    "collapsed": false
   },
   "outputs": [
    {
     "data": {
      "text/plain": [
       "[('καὶ', 4275),\n",
       " ('τὸ', 2805),\n",
       " ('δὲ', 1855),\n",
       " ('γὰρ', 1460),\n",
       " ('ἢ', 1195),\n",
       " ('τῶν', 1178),\n",
       " ('μὲν', 1134),\n",
       " ('τὰ', 1072),\n",
       " ('ἡ', 924),\n",
       " ('δ’', 878),\n",
       " ('εἶναι', 812),\n",
       " ('τοῦ', 776),\n",
       " ('μὴ', 649),\n",
       " ('ἐν', 601),\n",
       " ('εἰ', 601),\n",
       " ('ὅτι', 542),\n",
       " ('τὴν', 514),\n",
       " ('τῷ', 505),\n",
       " ('ὁ', 475),\n",
       " ('ὡς', 472)]"
      ]
     },
     "execution_count": 13,
     "metadata": {},
     "output_type": "execute_result"
    }
   ],
   "source": [
    "words = Counter(greekwords)\n",
    "words.most_common(20)"
   ]
  },
  {
   "cell_type": "markdown",
   "metadata": {},
   "source": [
    "Output unicode string to file with **utf-8** encoding"
   ]
  },
  {
   "cell_type": "code",
   "execution_count": 14,
   "metadata": {
    "collapsed": true
   },
   "outputs": [],
   "source": [
    "with open('greektext.txt','w',encoding='utf-8') as fout:\n",
    "    fout.write(greek)"
   ]
  },
  {
   "cell_type": "markdown",
   "metadata": {},
   "source": [
    "## Create a bigram of characters"
   ]
  },
  {
   "cell_type": "markdown",
   "metadata": {},
   "source": [
    "Initialize a `numpy` 2-D array of zeros"
   ]
  },
  {
   "cell_type": "code",
   "execution_count": 25,
   "metadata": {
    "collapsed": false
   },
   "outputs": [
    {
     "name": "stdout",
     "output_type": "stream",
     "text": [
      "(177, 177)\n"
     ]
    }
   ],
   "source": [
    "ct = np.zeros((len(characters),len(characters)))\n",
    "print(ct.shape)"
   ]
  },
  {
   "cell_type": "markdown",
   "metadata": {},
   "source": [
    "Use a dictionary comprehension to create a dictionary to map character to row, column number (arbitrary assignment)"
   ]
  },
  {
   "cell_type": "code",
   "execution_count": 26,
   "metadata": {
    "collapsed": false
   },
   "outputs": [
    {
     "data": {
      "text/plain": [
       "{'\\t': 25,\n",
       " '\\n': 143,\n",
       " ' ': 7,\n",
       " '\"': 133,\n",
       " '&': 28,\n",
       " '(': 49,\n",
       " ')': 117,\n",
       " ',': 23,\n",
       " '.': 32,\n",
       " '0': 5,\n",
       " '1': 0,\n",
       " '2': 52,\n",
       " '3': 75,\n",
       " '6': 144,\n",
       " '7': 92,\n",
       " '8': 62,\n",
       " '9': 1,\n",
       " ';': 10,\n",
       " '<': 122,\n",
       " '>': 147,\n",
       " '·': 51,\n",
       " 'Α': 141,\n",
       " 'Β': 29,\n",
       " 'Γ': 153,\n",
       " 'Δ': 63,\n",
       " 'Ε': 45,\n",
       " 'Ζ': 79,\n",
       " 'Η': 85,\n",
       " 'Θ': 137,\n",
       " 'Κ': 77,\n",
       " 'Λ': 103,\n",
       " 'Μ': 128,\n",
       " 'Ν': 40,\n",
       " 'Ξ': 90,\n",
       " 'Π': 167,\n",
       " 'Ρ': 35,\n",
       " 'Σ': 124,\n",
       " 'Τ': 146,\n",
       " 'Φ': 169,\n",
       " 'Ψ': 126,\n",
       " 'Ω': 175,\n",
       " 'α': 106,\n",
       " 'β': 6,\n",
       " 'γ': 176,\n",
       " 'δ': 114,\n",
       " 'ε': 140,\n",
       " 'ζ': 151,\n",
       " 'η': 3,\n",
       " 'θ': 113,\n",
       " 'ι': 18,\n",
       " 'κ': 26,\n",
       " 'λ': 24,\n",
       " 'μ': 127,\n",
       " 'ν': 69,\n",
       " 'ξ': 36,\n",
       " 'ο': 58,\n",
       " 'π': 65,\n",
       " 'ρ': 149,\n",
       " 'ς': 108,\n",
       " 'σ': 61,\n",
       " 'τ': 118,\n",
       " 'υ': 91,\n",
       " 'φ': 80,\n",
       " 'χ': 64,\n",
       " 'ψ': 152,\n",
       " 'ω': 70,\n",
       " 'ϊ': 130,\n",
       " 'ϋ': 68,\n",
       " 'ἀ': 27,\n",
       " 'ἁ': 66,\n",
       " 'ἂ': 95,\n",
       " 'ἃ': 31,\n",
       " 'ἄ': 148,\n",
       " 'ἅ': 78,\n",
       " 'ἆ': 119,\n",
       " 'Ἀ': 55,\n",
       " 'Ἄ': 14,\n",
       " 'ἐ': 129,\n",
       " 'ἑ': 157,\n",
       " 'ἓ': 9,\n",
       " 'ἔ': 22,\n",
       " 'ἕ': 46,\n",
       " 'Ἐ': 94,\n",
       " 'Ἑ': 54,\n",
       " 'Ἕ': 111,\n",
       " 'ἠ': 168,\n",
       " 'ἡ': 174,\n",
       " 'ἢ': 155,\n",
       " 'ἣ': 164,\n",
       " 'ἤ': 159,\n",
       " 'ἥ': 83,\n",
       " 'ἦ': 105,\n",
       " 'ἧ': 2,\n",
       " 'Ἡ': 96,\n",
       " 'ἰ': 71,\n",
       " 'ἱ': 19,\n",
       " 'ἳ': 56,\n",
       " 'ἴ': 172,\n",
       " 'ἵ': 60,\n",
       " 'ἶ': 109,\n",
       " 'ἷ': 136,\n",
       " 'Ἰ': 158,\n",
       " 'Ἱ': 131,\n",
       " 'Ἴ': 73,\n",
       " 'Ἵ': 86,\n",
       " 'ὀ': 39,\n",
       " 'ὁ': 74,\n",
       " 'ὂ': 102,\n",
       " 'ὃ': 88,\n",
       " 'ὄ': 101,\n",
       " 'ὅ': 93,\n",
       " 'Ὀ': 72,\n",
       " 'Ὁ': 43,\n",
       " 'Ὅ': 160,\n",
       " 'ὐ': 156,\n",
       " 'ὑ': 17,\n",
       " 'ὒ': 67,\n",
       " 'ὓ': 50,\n",
       " 'ὔ': 15,\n",
       " 'ὕ': 76,\n",
       " 'ὖ': 12,\n",
       " 'ὗ': 97,\n",
       " 'ὠ': 150,\n",
       " 'ὡ': 82,\n",
       " 'ὢ': 34,\n",
       " 'ὣ': 16,\n",
       " 'ὤ': 121,\n",
       " 'ὥ': 120,\n",
       " 'ὦ': 20,\n",
       " 'ὧ': 138,\n",
       " 'Ὠ': 98,\n",
       " 'ὰ': 57,\n",
       " 'ά': 100,\n",
       " 'ὲ': 48,\n",
       " 'έ': 13,\n",
       " 'ὴ': 154,\n",
       " 'ή': 145,\n",
       " 'ὶ': 162,\n",
       " 'ί': 89,\n",
       " 'ὸ': 104,\n",
       " 'ό': 116,\n",
       " 'ὺ': 170,\n",
       " 'ύ': 163,\n",
       " 'ὼ': 8,\n",
       " 'ώ': 99,\n",
       " 'ᾑ': 161,\n",
       " 'ᾔ': 53,\n",
       " 'ᾖ': 166,\n",
       " 'ᾗ': 135,\n",
       " 'ᾠ': 21,\n",
       " 'ᾤ': 11,\n",
       " 'ᾧ': 142,\n",
       " 'ᾰ': 41,\n",
       " 'ᾳ': 42,\n",
       " 'ᾴ': 87,\n",
       " 'ᾶ': 33,\n",
       " 'ᾷ': 139,\n",
       " 'ῃ': 4,\n",
       " 'ῄ': 84,\n",
       " 'ῆ': 37,\n",
       " 'ῇ': 115,\n",
       " 'ῐ': 81,\n",
       " 'ῑ': 44,\n",
       " 'ῒ': 110,\n",
       " 'ΐ': 134,\n",
       " 'ῖ': 107,\n",
       " 'ῠ': 165,\n",
       " 'ῥ': 125,\n",
       " 'ῦ': 30,\n",
       " 'ῳ': 171,\n",
       " 'ῴ': 38,\n",
       " 'ῶ': 59,\n",
       " 'ῷ': 173,\n",
       " '‐': 112,\n",
       " '—': 123,\n",
       " '’': 47,\n",
       " '†': 132}"
      ]
     },
     "execution_count": 26,
     "metadata": {},
     "output_type": "execute_result"
    }
   ],
   "source": [
    "character_dict = {character:i for i,character in enumerate(characters.keys())}\n",
    "character_dict"
   ]
  },
  {
   "cell_type": "markdown",
   "metadata": {},
   "source": [
    "Iterate through the string 2 characters at a time and increment the array with the ordering of the two characters."
   ]
  },
  {
   "cell_type": "code",
   "execution_count": 27,
   "metadata": {
    "collapsed": false
   },
   "outputs": [],
   "source": [
    "n = 2\n",
    "for i in range(len(greek)-n+1):\n",
    "    two_characters = greek[i:i+n]\n",
    "    row = character_dict[two_characters[0]]\n",
    "    col = character_dict[two_characters[1]]\n",
    "    ct[row,col] += 1"
   ]
  },
  {
   "cell_type": "markdown",
   "metadata": {},
   "source": [
    "If necessary, convert to `numpy` matrix"
   ]
  },
  {
   "cell_type": "code",
   "execution_count": 29,
   "metadata": {
    "collapsed": false
   },
   "outputs": [
    {
     "name": "stdout",
     "output_type": "stream",
     "text": [
      "(177, 177)\n",
      "[[ 1.  0.  0. ...  0.  0.  0.]\n",
      " [ 0.  0.  0. ...  0.  0.  0.]\n",
      " [ 0.  0.  0. ...  0.  0.  0.]\n",
      " ...\n",
      " [ 0.  0.  0. ...  0.  0.  4.]\n",
      " [ 0.  0.  0. ...  0.  0.  0.]\n",
      " [ 0.  0.  0. ...  0.  0. 49.]]\n"
     ]
    }
   ],
   "source": [
    "M = np.matrix(ct)\n",
    "print(M.shape)\n",
    "print(M)"
   ]
  },
  {
   "cell_type": "code",
   "execution_count": null,
   "metadata": {
    "collapsed": true
   },
   "outputs": [],
   "source": []
  }
 ],
 "metadata": {
  "kernelspec": {
   "display_name": "Python [default]",
   "language": "python",
   "name": "python3"
  },
  "language_info": {
   "codemirror_mode": {
    "name": "ipython",
    "version": 3
   },
   "file_extension": ".py",
   "mimetype": "text/x-python",
   "name": "python",
   "nbconvert_exporter": "python",
   "pygments_lexer": "ipython3",
   "version": "3.5.2"
  }
 },
 "nbformat": 4,
 "nbformat_minor": 2
}
