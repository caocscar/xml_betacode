{
 "cells": [
  {
   "cell_type": "markdown",
   "metadata": {},
   "source": [
    "# Read XML file with betacode text"
   ]
  },
  {
   "cell_type": "markdown",
   "metadata": {},
   "source": [
    "Install necessary modules. Install betacode module via `pip install betacode`. You also have to `pip install pygtrie` if you want to use the `betacode` module."
   ]
  },
  {
   "cell_type": "code",
   "execution_count": 1,
   "metadata": {
    "collapsed": true
   },
   "outputs": [],
   "source": [
    "from bs4 import BeautifulSoup\n",
    "from collections import Counter\n",
    "import betacode.conv\n",
    "import numpy as np"
   ]
  },
  {
   "cell_type": "markdown",
   "metadata": {},
   "source": [
    "Read in xml file and create soup object"
   ]
  },
  {
   "cell_type": "code",
   "execution_count": 2,
   "metadata": {
    "collapsed": true
   },
   "outputs": [],
   "source": [
    "with open('aristot.met_gk.xml','r') as fin:\n",
    "    aristotle = fin.read()\n",
    "soup = BeautifulSoup(aristotle, 'lxml')"
   ]
  },
  {
   "cell_type": "markdown",
   "metadata": {},
   "source": [
    "Looking at the xml file, we need to find the `text` tags in the file. "
   ]
  },
  {
   "cell_type": "code",
   "execution_count": 3,
   "metadata": {
    "collapsed": false,
    "scrolled": true
   },
   "outputs": [
    {
     "data": {
      "text/plain": [
       "1"
      ]
     },
     "execution_count": 3,
     "metadata": {},
     "output_type": "execute_result"
    }
   ],
   "source": [
    "texts = soup.find_all('text')\n",
    "len(texts)"
   ]
  },
  {
   "cell_type": "markdown",
   "metadata": {},
   "source": [
    "Turns out there is only one `text` tag."
   ]
  },
  {
   "cell_type": "code",
   "execution_count": 4,
   "metadata": {
    "collapsed": true
   },
   "outputs": [],
   "source": [
    "text = texts[0]"
   ]
  },
  {
   "cell_type": "markdown",
   "metadata": {},
   "source": [
    "Find the books within the `text` tag by looking for the `div1` tag and the `type` attribute."
   ]
  },
  {
   "cell_type": "code",
   "execution_count": 5,
   "metadata": {
    "collapsed": true
   },
   "outputs": [],
   "source": [
    "books = text.find_all('div1', type='Book')"
   ]
  },
  {
   "cell_type": "markdown",
   "metadata": {},
   "source": [
    "Grab all text within the tag by using `text` attribute and append to the list of books. I could have also just done `text.text` to do the same thing but without book separation."
   ]
  },
  {
   "cell_type": "code",
   "execution_count": 6,
   "metadata": {
    "collapsed": true
   },
   "outputs": [],
   "source": [
    "booklist = []\n",
    "for book in books:\n",
    "    booklist.append(book.text)\n",
    "beta = '\\n'.join(booklist)"
   ]
  },
  {
   "cell_type": "markdown",
   "metadata": {},
   "source": [
    "Convert from betacode to unicode"
   ]
  },
  {
   "cell_type": "code",
   "execution_count": 7,
   "metadata": {
    "collapsed": true
   },
   "outputs": [],
   "source": [
    "greek = betacode.conv.beta_to_uni(beta)"
   ]
  },
  {
   "cell_type": "markdown",
   "metadata": {},
   "source": [
    "Count characters in text"
   ]
  },
  {
   "cell_type": "code",
   "execution_count": 8,
   "metadata": {
    "collapsed": false
   },
   "outputs": [
    {
     "data": {
      "text/plain": [
       "Counter({'\\t': 896,\n",
       "         '\\n': 280,\n",
       "         ' ': 77088,\n",
       "         '\"': 28,\n",
       "         '&': 1076,\n",
       "         '(': 1,\n",
       "         ')': 1,\n",
       "         ',': 5524,\n",
       "         '.': 2087,\n",
       "         '0': 5,\n",
       "         '1': 9,\n",
       "         '2': 3,\n",
       "         '3': 3,\n",
       "         '6': 4,\n",
       "         '7': 1,\n",
       "         '8': 2,\n",
       "         '9': 2,\n",
       "         ';': 1467,\n",
       "         '<': 60,\n",
       "         '>': 60,\n",
       "         '·': 1915,\n",
       "         'Α': 29,\n",
       "         'Β': 21,\n",
       "         'Γ': 3,\n",
       "         'Δ': 15,\n",
       "         'Ε': 8,\n",
       "         'Ζ': 5,\n",
       "         'Η': 1,\n",
       "         'Θ': 4,\n",
       "         'Κ': 45,\n",
       "         'Λ': 5,\n",
       "         'Μ': 7,\n",
       "         'Ν': 4,\n",
       "         'Ξ': 4,\n",
       "         'Π': 64,\n",
       "         'Ρ': 1,\n",
       "         'Σ': 51,\n",
       "         'Τ': 4,\n",
       "         'Φ': 4,\n",
       "         'Ψ': 1,\n",
       "         'Ω': 1,\n",
       "         'α': 24693,\n",
       "         'β': 1358,\n",
       "         'γ': 6311,\n",
       "         'δ': 8631,\n",
       "         'ε': 17577,\n",
       "         'ζ': 526,\n",
       "         'η': 4415,\n",
       "         'θ': 4545,\n",
       "         'ι': 18271,\n",
       "         'κ': 11035,\n",
       "         'λ': 9849,\n",
       "         'μ': 9294,\n",
       "         'ν': 31104,\n",
       "         'ξ': 907,\n",
       "         'ο': 22933,\n",
       "         'π': 9774,\n",
       "         'ρ': 13011,\n",
       "         'ς': 10951,\n",
       "         'σ': 11028,\n",
       "         'τ': 32135,\n",
       "         'υ': 3722,\n",
       "         'φ': 2139,\n",
       "         'χ': 2941,\n",
       "         'ψ': 295,\n",
       "         'ω': 4153,\n",
       "         'ϊ': 42,\n",
       "         'ϋ': 8,\n",
       "         'ἀ': 4233,\n",
       "         'ἁ': 178,\n",
       "         'ἂ': 434,\n",
       "         'ἃ': 49,\n",
       "         'ἄ': 1457,\n",
       "         'ἅ': 236,\n",
       "         'ἆ': 44,\n",
       "         'Ἀ': 29,\n",
       "         'Ἄ': 1,\n",
       "         'ἐ': 4359,\n",
       "         'ἑ': 470,\n",
       "         'ἓ': 362,\n",
       "         'ἔ': 1976,\n",
       "         'ἕ': 748,\n",
       "         'Ἐ': 23,\n",
       "         'Ἑ': 6,\n",
       "         'Ἕ': 3,\n",
       "         'ἠ': 35,\n",
       "         'ἡ': 1081,\n",
       "         'ἢ': 1249,\n",
       "         'ἣ': 36,\n",
       "         'ἤ': 75,\n",
       "         'ἥ': 66,\n",
       "         'ἦ': 165,\n",
       "         'ἧ': 43,\n",
       "         'Ἡ': 15,\n",
       "         'ἰ': 1978,\n",
       "         'ἱ': 607,\n",
       "         'ἳ': 8,\n",
       "         'ἴ': 1052,\n",
       "         'ἵ': 74,\n",
       "         'ἶ': 1404,\n",
       "         'ἷ': 598,\n",
       "         'Ἰ': 8,\n",
       "         'Ἱ': 1,\n",
       "         'Ἴ': 2,\n",
       "         'Ἵ': 2,\n",
       "         'ὀ': 160,\n",
       "         'ὁ': 1031,\n",
       "         'ὂ': 160,\n",
       "         'ὃ': 154,\n",
       "         'ὄ': 516,\n",
       "         'ὅ': 1295,\n",
       "         'Ὀ': 1,\n",
       "         'Ὁ': 1,\n",
       "         'Ὅ': 1,\n",
       "         'ὐ': 3693,\n",
       "         'ὑ': 877,\n",
       "         'ὒ': 2,\n",
       "         'ὓ': 3,\n",
       "         'ὔ': 508,\n",
       "         'ὕ': 780,\n",
       "         'ὖ': 433,\n",
       "         'ὗ': 236,\n",
       "         'ὠ': 7,\n",
       "         'ὡ': 607,\n",
       "         'ὢ': 10,\n",
       "         'ὣ': 2,\n",
       "         'ὤ': 3,\n",
       "         'ὥ': 559,\n",
       "         'ὦ': 5,\n",
       "         'ὧ': 186,\n",
       "         'Ὠ': 1,\n",
       "         'ὰ': 4995,\n",
       "         'ά': 3292,\n",
       "         'ὲ': 3709,\n",
       "         'έ': 4527,\n",
       "         'ὴ': 2045,\n",
       "         'ή': 1188,\n",
       "         'ὶ': 6240,\n",
       "         'ί': 5115,\n",
       "         'ὸ': 5374,\n",
       "         'ό': 3645,\n",
       "         'ὺ': 303,\n",
       "         'ύ': 2158,\n",
       "         'ὼ': 24,\n",
       "         'ώ': 553,\n",
       "         'ᾑ': 1,\n",
       "         'ᾔ': 1,\n",
       "         'ᾖ': 89,\n",
       "         'ᾗ': 160,\n",
       "         'ᾠ': 6,\n",
       "         'ᾤ': 8,\n",
       "         'ᾧ': 39,\n",
       "         'ᾰ': 43,\n",
       "         'ᾳ': 187,\n",
       "         'ᾴ': 14,\n",
       "         'ᾶ': 478,\n",
       "         'ᾷ': 36,\n",
       "         'ῃ': 190,\n",
       "         'ῄ': 9,\n",
       "         'ῆ': 1401,\n",
       "         'ῇ': 340,\n",
       "         'ῐ': 72,\n",
       "         'ῑ': 31,\n",
       "         'ῒ': 1,\n",
       "         'ΐ': 59,\n",
       "         'ῖ': 2218,\n",
       "         'ῠ': 10,\n",
       "         'ῥ': 65,\n",
       "         'ῦ': 2816,\n",
       "         'ῳ': 458,\n",
       "         'ῴ': 40,\n",
       "         'ῶ': 2806,\n",
       "         'ῷ': 899,\n",
       "         '‐': 2,\n",
       "         '—': 98,\n",
       "         '’': 2403,\n",
       "         '†': 10})"
      ]
     },
     "execution_count": 8,
     "metadata": {},
     "output_type": "execute_result"
    }
   ],
   "source": [
    "characters = Counter(greek)\n",
    "characters"
   ]
  },
  {
   "cell_type": "markdown",
   "metadata": {},
   "source": [
    "Read in file with letters of interest and remove newline feed."
   ]
  },
  {
   "cell_type": "code",
   "execution_count": 9,
   "metadata": {
    "collapsed": true
   },
   "outputs": [],
   "source": [
    "with open('greek_letters_accents.csv','r',encoding='utf-8') as fin:\n",
    "    letters = fin.readlines()\n",
    "letters = [letter.strip('\\n') for letter in letters]"
   ]
  },
  {
   "cell_type": "markdown",
   "metadata": {},
   "source": [
    "Use a dictionary comprehension to extract characters of interest"
   ]
  },
  {
   "cell_type": "code",
   "execution_count": 10,
   "metadata": {
    "collapsed": false
   },
   "outputs": [
    {
     "data": {
      "text/plain": [
       "{'α': 24693,\n",
       " 'β': 1358,\n",
       " 'γ': 6311,\n",
       " 'δ': 8631,\n",
       " 'ε': 17577,\n",
       " 'ζ': 526,\n",
       " 'η': 4415,\n",
       " 'θ': 4545,\n",
       " 'ι': 18271,\n",
       " 'κ': 11035,\n",
       " 'λ': 9849,\n",
       " 'μ': 9294,\n",
       " 'ν': 31104,\n",
       " 'ξ': 907,\n",
       " 'ο': 22933,\n",
       " 'π': 9774,\n",
       " 'ρ': 13011,\n",
       " 'ς': 10951,\n",
       " 'σ': 11028,\n",
       " 'τ': 32135,\n",
       " 'υ': 3722,\n",
       " 'φ': 2139,\n",
       " 'χ': 2941,\n",
       " 'ψ': 295,\n",
       " 'ω': 4153,\n",
       " 'ἀ': 4233,\n",
       " 'ἁ': 178,\n",
       " 'ἂ': 434,\n",
       " 'ἃ': 49,\n",
       " 'ἄ': 1457,\n",
       " 'ἅ': 236,\n",
       " 'ἆ': 44,\n",
       " 'ἐ': 4359,\n",
       " 'ἑ': 470,\n",
       " 'ἓ': 362,\n",
       " 'ἔ': 1976,\n",
       " 'ἕ': 748,\n",
       " 'ἠ': 35,\n",
       " 'ἡ': 1081,\n",
       " 'ἢ': 1249,\n",
       " 'ἣ': 36,\n",
       " 'ἤ': 75,\n",
       " 'ἥ': 66,\n",
       " 'ἦ': 165,\n",
       " 'ἧ': 43,\n",
       " 'ἰ': 1978,\n",
       " 'ἱ': 607,\n",
       " 'ἳ': 8,\n",
       " 'ἴ': 1052,\n",
       " 'ἵ': 74,\n",
       " 'ἶ': 1404,\n",
       " 'ἷ': 598,\n",
       " 'ὀ': 160,\n",
       " 'ὁ': 1031,\n",
       " 'ὂ': 160,\n",
       " 'ὃ': 154,\n",
       " 'ὄ': 516,\n",
       " 'ὅ': 1295,\n",
       " 'ὐ': 3693,\n",
       " 'ὑ': 877,\n",
       " 'ὒ': 2,\n",
       " 'ὓ': 3,\n",
       " 'ὔ': 508,\n",
       " 'ὕ': 780,\n",
       " 'ὖ': 433,\n",
       " 'ὗ': 236,\n",
       " 'ὠ': 7,\n",
       " 'ὡ': 607,\n",
       " 'ὢ': 10,\n",
       " 'ὣ': 2,\n",
       " 'ὤ': 3,\n",
       " 'ὥ': 559,\n",
       " 'ὦ': 5,\n",
       " 'ὧ': 186,\n",
       " 'ὰ': 4995,\n",
       " 'ὲ': 3709,\n",
       " 'ὴ': 2045,\n",
       " 'ὶ': 6240,\n",
       " 'ὸ': 5374,\n",
       " 'ὺ': 303,\n",
       " 'ὼ': 24,\n",
       " 'ᾑ': 1,\n",
       " 'ᾔ': 1,\n",
       " 'ᾖ': 89,\n",
       " 'ᾗ': 160,\n",
       " 'ᾠ': 6,\n",
       " 'ᾤ': 8,\n",
       " 'ᾧ': 39,\n",
       " 'ᾳ': 187,\n",
       " 'ᾶ': 478,\n",
       " 'ῃ': 190,\n",
       " 'ῆ': 1401,\n",
       " 'ῖ': 2218,\n",
       " 'ῥ': 65,\n",
       " 'ῦ': 2816,\n",
       " 'ῳ': 458,\n",
       " 'ῶ': 2806}"
      ]
     },
     "execution_count": 10,
     "metadata": {},
     "output_type": "execute_result"
    }
   ],
   "source": [
    "letters_dict = {k:v for k,v in characters.items() if k in letters}\n",
    "letters_dict"
   ]
  },
  {
   "cell_type": "markdown",
   "metadata": {},
   "source": [
    "Optionally, create a counter object from dictionary created"
   ]
  },
  {
   "cell_type": "code",
   "execution_count": 11,
   "metadata": {
    "collapsed": true
   },
   "outputs": [],
   "source": [
    "filtered_characters = Counter(letters_dict)"
   ]
  },
  {
   "cell_type": "markdown",
   "metadata": {},
   "source": [
    "Do the same thing with words with some cleaning of linefeeds and tabs."
   ]
  },
  {
   "cell_type": "code",
   "execution_count": 12,
   "metadata": {
    "collapsed": true
   },
   "outputs": [],
   "source": [
    "greekwords = greek.split(' ')\n",
    "greekwords = [word.strip('\\n\\t') for word in greekwords]"
   ]
  },
  {
   "cell_type": "code",
   "execution_count": 13,
   "metadata": {
    "collapsed": false
   },
   "outputs": [
    {
     "data": {
      "text/plain": [
       "[('καὶ', 4275),\n",
       " ('τὸ', 2805),\n",
       " ('δὲ', 1855),\n",
       " ('γὰρ', 1460),\n",
       " ('ἢ', 1195),\n",
       " ('τῶν', 1178),\n",
       " ('μὲν', 1134),\n",
       " ('τὰ', 1072),\n",
       " ('ἡ', 924),\n",
       " ('δ’', 878),\n",
       " ('εἶναι', 812),\n",
       " ('τοῦ', 776),\n",
       " ('μὴ', 649),\n",
       " ('ἐν', 601),\n",
       " ('εἰ', 601),\n",
       " ('ὅτι', 542),\n",
       " ('τὴν', 514),\n",
       " ('τῷ', 505),\n",
       " ('ὁ', 475),\n",
       " ('ὡς', 472)]"
      ]
     },
     "execution_count": 13,
     "metadata": {},
     "output_type": "execute_result"
    }
   ],
   "source": [
    "words = Counter(greekwords)\n",
    "words.most_common(20)"
   ]
  },
  {
   "cell_type": "markdown",
   "metadata": {},
   "source": [
    "Output unicode string to file with **utf-8** encoding"
   ]
  },
  {
   "cell_type": "code",
   "execution_count": 14,
   "metadata": {
    "collapsed": true
   },
   "outputs": [],
   "source": [
    "with open('greektext.txt','w',encoding='utf-8') as fout:\n",
    "    fout.write(greek)"
   ]
  },
  {
   "cell_type": "markdown",
   "metadata": {},
   "source": [
    "## Create a bigram of characters"
   ]
  },
  {
   "cell_type": "markdown",
   "metadata": {},
   "source": [
    "Use a dictionary comprehension to create a dictionary to map character to row, column number (arbitrary assignment)"
   ]
  },
  {
   "cell_type": "code",
   "execution_count": 73,
   "metadata": {
    "collapsed": false
   },
   "outputs": [
    {
     "data": {
      "text/plain": [
       "{'α': 83,\n",
       " 'β': 28,\n",
       " 'γ': 35,\n",
       " 'δ': 39,\n",
       " 'ε': 73,\n",
       " 'ζ': 42,\n",
       " 'η': 88,\n",
       " 'θ': 57,\n",
       " 'ι': 11,\n",
       " 'κ': 89,\n",
       " 'λ': 71,\n",
       " 'μ': 41,\n",
       " 'ν': 50,\n",
       " 'ξ': 91,\n",
       " 'ο': 87,\n",
       " 'π': 67,\n",
       " 'ρ': 3,\n",
       " 'ς': 56,\n",
       " 'σ': 37,\n",
       " 'τ': 74,\n",
       " 'υ': 52,\n",
       " 'φ': 20,\n",
       " 'χ': 22,\n",
       " 'ψ': 55,\n",
       " 'ω': 34,\n",
       " 'ἀ': 94,\n",
       " 'ἁ': 61,\n",
       " 'ἂ': 82,\n",
       " 'ἃ': 32,\n",
       " 'ἄ': 62,\n",
       " 'ἅ': 25,\n",
       " 'ἆ': 54,\n",
       " 'ἐ': 10,\n",
       " 'ἑ': 31,\n",
       " 'ἓ': 84,\n",
       " 'ἔ': 15,\n",
       " 'ἕ': 29,\n",
       " 'ἠ': 51,\n",
       " 'ἡ': 4,\n",
       " 'ἢ': 64,\n",
       " 'ἣ': 58,\n",
       " 'ἤ': 53,\n",
       " 'ἥ': 65,\n",
       " 'ἦ': 17,\n",
       " 'ἧ': 19,\n",
       " 'ἰ': 44,\n",
       " 'ἱ': 9,\n",
       " 'ἳ': 80,\n",
       " 'ἴ': 13,\n",
       " 'ἵ': 38,\n",
       " 'ἶ': 93,\n",
       " 'ἷ': 86,\n",
       " 'ὀ': 0,\n",
       " 'ὁ': 70,\n",
       " 'ὂ': 8,\n",
       " 'ὃ': 2,\n",
       " 'ὄ': 76,\n",
       " 'ὅ': 92,\n",
       " 'ὐ': 14,\n",
       " 'ὑ': 1,\n",
       " 'ὒ': 69,\n",
       " 'ὓ': 16,\n",
       " 'ὔ': 66,\n",
       " 'ὕ': 7,\n",
       " 'ὖ': 75,\n",
       " 'ὗ': 46,\n",
       " 'ὠ': 60,\n",
       " 'ὡ': 27,\n",
       " 'ὢ': 5,\n",
       " 'ὣ': 18,\n",
       " 'ὤ': 59,\n",
       " 'ὥ': 63,\n",
       " 'ὦ': 96,\n",
       " 'ὧ': 40,\n",
       " 'ὰ': 26,\n",
       " 'ὲ': 48,\n",
       " 'ὴ': 6,\n",
       " 'ὶ': 45,\n",
       " 'ὸ': 30,\n",
       " 'ὺ': 68,\n",
       " 'ὼ': 23,\n",
       " 'ᾑ': 49,\n",
       " 'ᾔ': 78,\n",
       " 'ᾖ': 36,\n",
       " 'ᾗ': 33,\n",
       " 'ᾠ': 12,\n",
       " 'ᾤ': 79,\n",
       " 'ᾧ': 85,\n",
       " 'ᾳ': 77,\n",
       " 'ᾶ': 81,\n",
       " 'ῃ': 43,\n",
       " 'ῆ': 95,\n",
       " 'ῖ': 72,\n",
       " 'ῥ': 90,\n",
       " 'ῦ': 24,\n",
       " 'ῳ': 21,\n",
       " 'ῶ': 47}"
      ]
     },
     "execution_count": 73,
     "metadata": {},
     "output_type": "execute_result"
    }
   ],
   "source": [
    "filtered_character_dict = {character:i for i,character in enumerate(filtered_characters.keys())}\n",
    "filtered_character_dict"
   ]
  },
  {
   "cell_type": "markdown",
   "metadata": {},
   "source": [
    "Initialize a `numpy` 2-D array of zeros"
   ]
  },
  {
   "cell_type": "code",
   "execution_count": 116,
   "metadata": {
    "collapsed": false
   },
   "outputs": [
    {
     "name": "stdout",
     "output_type": "stream",
     "text": [
      "(97, 97)\n"
     ]
    }
   ],
   "source": [
    "ct = np.zeros((len(filtered_characters),len(filtered_characters)))\n",
    "print(ct.shape)"
   ]
  },
  {
   "cell_type": "markdown",
   "metadata": {},
   "source": [
    "Iterate through the string 2 characters at a time and increment the array with the ordering of the two characters. Use dictionary to get row, column index. Check if the dictionary has that key, otherwise assign `None`."
   ]
  },
  {
   "cell_type": "code",
   "execution_count": 117,
   "metadata": {
    "collapsed": false
   },
   "outputs": [],
   "source": [
    "n = 2\n",
    "for i in range(len(greek)-n+1):\n",
    "    two_characters = greek[i:i+n]\n",
    "    row = filtered_character_dict.get(two_characters[0], None)\n",
    "    col = filtered_character_dict.get(two_characters[1], None)\n",
    "    if row is not None and col is not None:\n",
    "        ct[row,col] += 1"
   ]
  },
  {
   "cell_type": "markdown",
   "metadata": {},
   "source": [
    "If necessary, convert to `numpy` matrix"
   ]
  },
  {
   "cell_type": "code",
   "execution_count": 119,
   "metadata": {
    "collapsed": false
   },
   "outputs": [
    {
     "name": "stdout",
     "output_type": "stream",
     "text": [
      "(97, 97)\n",
      "[[0. 0. 0. ... 0. 0. 0.]\n",
      " [0. 0. 0. ... 0. 0. 0.]\n",
      " [0. 0. 0. ... 0. 0. 0.]\n",
      " ...\n",
      " [0. 0. 0. ... 0. 0. 0.]\n",
      " [0. 0. 0. ... 0. 0. 0.]\n",
      " [0. 0. 0. ... 0. 0. 0.]]\n"
     ]
    }
   ],
   "source": [
    "M = np.matrix(ct)\n",
    "print(M.shape)\n",
    "print(M)"
   ]
  },
  {
   "cell_type": "code",
   "execution_count": null,
   "metadata": {
    "collapsed": true
   },
   "outputs": [],
   "source": []
  }
 ],
 "metadata": {
  "kernelspec": {
   "display_name": "Python [default]",
   "language": "python",
   "name": "python3"
  },
  "language_info": {
   "codemirror_mode": {
    "name": "ipython",
    "version": 3
   },
   "file_extension": ".py",
   "mimetype": "text/x-python",
   "name": "python",
   "nbconvert_exporter": "python",
   "pygments_lexer": "ipython3",
   "version": "3.5.2"
  }
 },
 "nbformat": 4,
 "nbformat_minor": 2
}
